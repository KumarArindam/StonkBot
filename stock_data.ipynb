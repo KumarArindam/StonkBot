{
 "cells": [
  {
   "cell_type": "code",
   "execution_count": 1,
   "id": "da8b8fe3",
   "metadata": {},
   "outputs": [],
   "source": [
    "import pandas as pd\n",
    "import yfinance as yf\n",
    "from datetime import datetime, time, timedelta, date\n",
    "from yahoofinancials import YahooFinancials"
   ]
  },
  {
   "cell_type": "code",
   "execution_count": 6,
   "id": "66e4e23a",
   "metadata": {},
   "outputs": [],
   "source": [
    "# stock_list = ['LAURUSLABS.NS', \"ADANIENT.NS\", \"ADANIPORTS.NS\", \"ADANIPOWER.NS\", \"AMARAJABAT.NS\", \"AMBUJACEM.NS\",\n",
    "#               \"APOLLOHOSP.NS\", \"APOLLOTYRE.NS\", \"ASHOKLEY.NS\", \"ASIANPAINT.NS\",\"AUROPHARMA.NS\", \"AXISBANK.NS\"]\n",
    "\n",
    "# start_date = '2021-07-01'\n",
    "# trade_date = '2021-07-08'"
   ]
  },
  {
   "cell_type": "code",
   "execution_count": 5,
   "id": "fb5507e2",
   "metadata": {},
   "outputs": [],
   "source": [
    "# for x in stock_list:\n",
    "#     while True:\n",
    "#         try:\n",
    "#             data = yf.download(x, start=\"2021-01-01\", end=trade_date, interval='5m', threads = False)\n",
    "#             data = data.drop(columns = ['Low','High', 'Open', 'Adj Close', 'Volume'])\n",
    "#             data.columns=[x]\n",
    "#             data = data.reset_index()\n",
    "#             stock_data=data[x]\n",
    "#             close_data = pd.concat([close_data,stock_data], axis=1)\n",
    "#             print(x)\n",
    "#         except Exception as ex:\n",
    "#             print(ex)\n",
    "#             continue\n",
    "#         break"
   ]
  },
  {
   "cell_type": "code",
   "execution_count": 35,
   "id": "2acf196b",
   "metadata": {},
   "outputs": [
    {
     "data": {
      "text/plain": [
       "'2021-07-09'"
      ]
     },
     "execution_count": 35,
     "metadata": {},
     "output_type": "execute_result"
    }
   ],
   "source": [
    "stock_list = ['LAURUSLABS.NS', \"ADANIENT.NS\", \"ADANIPORTS.NS\"]\n",
    "\n",
    "yesterday = datetime.now() - timedelta(1)\n",
    "start_date = datetime.strftime(yesterday, '%Y-%m-%d')\n",
    "trade_date = datetime.now().date().strftime('%Y-%m-%d')\n",
    "start_date"
   ]
  },
  {
   "cell_type": "code",
   "execution_count": 71,
   "id": "b3c7187d",
   "metadata": {},
   "outputs": [],
   "source": [
    "def get_closing_data(stock_list):\n",
    "    close_data = pd.DataFrame()\n",
    "    for stock in stock_list:\n",
    "#         print(\"{} EOD Data {}\".format(stock, trade_date))\n",
    "\n",
    "        yahoo_financials = YahooFinancials(stock)\n",
    "        data = yahoo_financials.get_historical_price_data(start_date=start_date, \n",
    "                                                          end_date= trade_date,\n",
    "                                                          time_interval='daily')\n",
    "\n",
    "        data_df = pd.DataFrame(data[stock]['prices'])\n",
    "        data_df = data_df.drop('date', axis=1).set_index('formatted_date')\n",
    "        data_df.reset_index(inplace=True)\n",
    "        data_df = data_df.rename(columns={'formatted_date':'date'})\n",
    "        data_df = data_df.drop(columns = ['adjclose', 'volume'])\n",
    "        data_df['stock'] = stock\n",
    "        close_data = pd.concat([close_data,data_df], axis=0)\n",
    "\n",
    "    close_data = close_data.drop_duplicates()\n",
    "    close_data.reset_index(inplace=True)\n",
    "    close_data.drop('index',axis=1, inplace=True)    \n",
    "    return close_data"
   ]
  },
  {
   "cell_type": "code",
   "execution_count": 72,
   "id": "be774b16",
   "metadata": {},
   "outputs": [
    {
     "name": "stdout",
     "output_type": "stream",
     "text": [
      "LAURUSLABS.NS EOD Data 2021-07-10\n",
      "ADANIENT.NS EOD Data 2021-07-10\n",
      "ADANIPORTS.NS EOD Data 2021-07-10\n"
     ]
    }
   ],
   "source": [
    "close_data = get_closing_data(stock_list)"
   ]
  },
  {
   "cell_type": "code",
   "execution_count": 73,
   "id": "d150605f",
   "metadata": {},
   "outputs": [],
   "source": [
    "cols_order = ['stock', 'date', 'high', 'low', 'open', 'close']\n",
    "close_data = close_data[cols_order]"
   ]
  },
  {
   "cell_type": "code",
   "execution_count": 134,
   "id": "6788df13",
   "metadata": {},
   "outputs": [],
   "source": [
    "def format_output(df):\n",
    "    \n",
    "    res = \"\"\n",
    "    for index, row in df.iterrows():\n",
    "        res+= \"{} \\tEOD Data\\n\".format(row['stock'])\n",
    "        res+= \"---Date: {}\\n\".format(row['date'])\n",
    "        res+= \"---Open: {:.2f}\\n\".format(np.round(row['open'], 2))\n",
    "        res+= \"---Close: {:.2f}\\n\".format(np.round(row['close'], 2))\n",
    "        res+= \"---Low: {:.2f}\\n\".format(np.round(row['low'], 2))\n",
    "        res+= \"---High: {:.2f}\\n\\n\".format(np.round(row['high'], 2))\n",
    "        \n",
    "    return res"
   ]
  },
  {
   "cell_type": "code",
   "execution_count": 135,
   "id": "fdcf0253",
   "metadata": {},
   "outputs": [
    {
     "name": "stdout",
     "output_type": "stream",
     "text": [
      "LAURUSLABS.NS \tEOD Data\n",
      "---Date: 2021-07-09\n",
      "---Open: 685.70\n",
      "---Close: 680.20\n",
      "---Low: 676.70\n",
      "---High: 687.00\n",
      "\n",
      "ADANIENT.NS \tEOD Data\n",
      "---Date: 2021-07-09\n",
      "---Open: 1425.90\n",
      "---Close: 1431.35\n",
      "---Low: 1416.45\n",
      "---High: 1456.60\n",
      "\n",
      "ADANIPORTS.NS \tEOD Data\n",
      "---Date: 2021-07-09\n",
      "---Open: 712.50\n",
      "---Close: 728.50\n",
      "---Low: 708.35\n",
      "---High: 737.00\n",
      "\n",
      "\n"
     ]
    }
   ],
   "source": [
    "print(format_output(close_data))"
   ]
  },
  {
   "cell_type": "code",
   "execution_count": 133,
   "id": "d959b923",
   "metadata": {},
   "outputs": [
    {
     "ename": "SyntaxError",
     "evalue": "invalid syntax (<ipython-input-133-0d8863da8b47>, line 5)",
     "output_type": "error",
     "traceback": [
      "\u001b[1;36m  File \u001b[1;32m\"<ipython-input-133-0d8863da8b47>\"\u001b[1;36m, line \u001b[1;32m5\u001b[0m\n\u001b[1;33m    print\"---Date: {}\".format(row['date'])\u001b[0m\n\u001b[1;37m                     ^\u001b[0m\n\u001b[1;31mSyntaxError\u001b[0m\u001b[1;31m:\u001b[0m invalid syntax\n"
     ]
    }
   ],
   "source": [
    "res = \"\"\n",
    "\n",
    "for index, row in close_data.iterrows():\n",
    "    res+= \"{} \\tEOD Data\".format(row['stock'])\n",
    "    print\"---Date: {}\".format(row['date'])\n",
    "    print(\"---Open: {}\".format(np.round(row['open'],2))\n",
    "    print(\"---Close: {}\".format(np.round(row['close'],2))\n",
    "    print(\"---Low: {}\".format(np.round(row['low'],2))\n",
    "    print(\"---High: {}\\n\".format(np.round(row['high'], 2))"
   ]
  },
  {
   "cell_type": "code",
   "execution_count": 99,
   "id": "1ccdf3a8",
   "metadata": {},
   "outputs": [
    {
     "data": {
      "text/html": [
       "<div>\n",
       "<style scoped>\n",
       "    .dataframe tbody tr th:only-of-type {\n",
       "        vertical-align: middle;\n",
       "    }\n",
       "\n",
       "    .dataframe tbody tr th {\n",
       "        vertical-align: top;\n",
       "    }\n",
       "\n",
       "    .dataframe thead th {\n",
       "        text-align: right;\n",
       "    }\n",
       "</style>\n",
       "<table border=\"1\" class=\"dataframe\">\n",
       "  <thead>\n",
       "    <tr style=\"text-align: right;\">\n",
       "      <th></th>\n",
       "      <th></th>\n",
       "      <th>0</th>\n",
       "    </tr>\n",
       "  </thead>\n",
       "  <tbody>\n",
       "    <tr>\n",
       "      <th rowspan=\"6\" valign=\"top\">0</th>\n",
       "      <th>stock</th>\n",
       "      <td>LAURUSLABS.NS</td>\n",
       "    </tr>\n",
       "    <tr>\n",
       "      <th>date</th>\n",
       "      <td>2021-07-09</td>\n",
       "    </tr>\n",
       "    <tr>\n",
       "      <th>high</th>\n",
       "      <td>687</td>\n",
       "    </tr>\n",
       "    <tr>\n",
       "      <th>low</th>\n",
       "      <td>676.7</td>\n",
       "    </tr>\n",
       "    <tr>\n",
       "      <th>open</th>\n",
       "      <td>685.7</td>\n",
       "    </tr>\n",
       "    <tr>\n",
       "      <th>close</th>\n",
       "      <td>680.2</td>\n",
       "    </tr>\n",
       "    <tr>\n",
       "      <th rowspan=\"6\" valign=\"top\">1</th>\n",
       "      <th>stock</th>\n",
       "      <td>ADANIENT.NS</td>\n",
       "    </tr>\n",
       "    <tr>\n",
       "      <th>date</th>\n",
       "      <td>2021-07-09</td>\n",
       "    </tr>\n",
       "    <tr>\n",
       "      <th>high</th>\n",
       "      <td>1456.6</td>\n",
       "    </tr>\n",
       "    <tr>\n",
       "      <th>low</th>\n",
       "      <td>1416.45</td>\n",
       "    </tr>\n",
       "    <tr>\n",
       "      <th>open</th>\n",
       "      <td>1425.9</td>\n",
       "    </tr>\n",
       "    <tr>\n",
       "      <th>close</th>\n",
       "      <td>1431.35</td>\n",
       "    </tr>\n",
       "    <tr>\n",
       "      <th rowspan=\"6\" valign=\"top\">2</th>\n",
       "      <th>stock</th>\n",
       "      <td>ADANIPORTS.NS</td>\n",
       "    </tr>\n",
       "    <tr>\n",
       "      <th>date</th>\n",
       "      <td>2021-07-09</td>\n",
       "    </tr>\n",
       "    <tr>\n",
       "      <th>high</th>\n",
       "      <td>737</td>\n",
       "    </tr>\n",
       "    <tr>\n",
       "      <th>low</th>\n",
       "      <td>708.35</td>\n",
       "    </tr>\n",
       "    <tr>\n",
       "      <th>open</th>\n",
       "      <td>712.5</td>\n",
       "    </tr>\n",
       "    <tr>\n",
       "      <th>close</th>\n",
       "      <td>728.5</td>\n",
       "    </tr>\n",
       "  </tbody>\n",
       "</table>\n",
       "</div>"
      ],
      "text/plain": [
       "                     0\n",
       "0 stock  LAURUSLABS.NS\n",
       "  date      2021-07-09\n",
       "  high             687\n",
       "  low            676.7\n",
       "  open           685.7\n",
       "  close          680.2\n",
       "1 stock    ADANIENT.NS\n",
       "  date      2021-07-09\n",
       "  high          1456.6\n",
       "  low          1416.45\n",
       "  open          1425.9\n",
       "  close        1431.35\n",
       "2 stock  ADANIPORTS.NS\n",
       "  date      2021-07-09\n",
       "  high             737\n",
       "  low           708.35\n",
       "  open           712.5\n",
       "  close          728.5"
      ]
     },
     "execution_count": 99,
     "metadata": {},
     "output_type": "execute_result"
    }
   ],
   "source": [
    "tmp = close_data.stack()\n",
    "# print(tmp.to_csv(sep='\\t'))\n",
    "tmp.to_frame()"
   ]
  },
  {
   "cell_type": "code",
   "execution_count": 130,
   "id": "0492176e",
   "metadata": {},
   "outputs": [
    {
     "data": {
      "text/plain": [
       "5.09"
      ]
     },
     "execution_count": 130,
     "metadata": {},
     "output_type": "execute_result"
    }
   ],
   "source": [
    "import numpy as np\n",
    "np.round(5.090931, 2)"
   ]
  },
  {
   "cell_type": "code",
   "execution_count": 144,
   "id": "5a61a395",
   "metadata": {},
   "outputs": [],
   "source": [
    "tmp = '!track buy lauruslabs  350 '\n",
    "tmp = tmp.strip()"
   ]
  },
  {
   "cell_type": "code",
   "execution_count": 149,
   "id": "bbfb8bf7",
   "metadata": {},
   "outputs": [
    {
     "ename": "AttributeError",
     "evalue": "module 'pip' has no attribute 'get_installed_distributions'",
     "output_type": "error",
     "traceback": [
      "\u001b[1;31m---------------------------------------------------------------------------\u001b[0m",
      "\u001b[1;31mAttributeError\u001b[0m                            Traceback (most recent call last)",
      "\u001b[1;32m<ipython-input-149-1f7a06abc3d2>\u001b[0m in \u001b[0;36m<module>\u001b[1;34m\u001b[0m\n\u001b[0;32m      1\u001b[0m \u001b[1;32mimport\u001b[0m \u001b[0mpip\u001b[0m\u001b[1;33m\u001b[0m\u001b[1;33m\u001b[0m\u001b[0m\n\u001b[1;32m----> 2\u001b[1;33m \u001b[0minstalled_packages\u001b[0m \u001b[1;33m=\u001b[0m \u001b[0mpip\u001b[0m\u001b[1;33m.\u001b[0m\u001b[0mget_installed_distributions\u001b[0m\u001b[1;33m(\u001b[0m\u001b[1;33m)\u001b[0m\u001b[1;33m\u001b[0m\u001b[1;33m\u001b[0m\u001b[0m\n\u001b[0m\u001b[0;32m      3\u001b[0m installed_packages_list = sorted([\"%s==%s\" % (i.key, i.version)\n\u001b[0;32m      4\u001b[0m      for i in installed_packages])\n\u001b[0;32m      5\u001b[0m \u001b[0mprint\u001b[0m\u001b[1;33m(\u001b[0m\u001b[0minstalled_packages_list\u001b[0m\u001b[1;33m)\u001b[0m\u001b[1;33m\u001b[0m\u001b[1;33m\u001b[0m\u001b[0m\n",
      "\u001b[1;31mAttributeError\u001b[0m: module 'pip' has no attribute 'get_installed_distributions'"
     ]
    }
   ],
   "source": [
    "import pip\n",
    "installed_packages = pip.get_installed_distributions()\n",
    "installed_packages_list = sorted([\"%s==%s\" % (i.key, i.version)\n",
    "     for i in installed_packages])\n",
    "print(installed_packages_list)"
   ]
  },
  {
   "cell_type": "code",
   "execution_count": null,
   "id": "7c98d601",
   "metadata": {},
   "outputs": [],
   "source": []
  }
 ],
 "metadata": {
  "kernelspec": {
   "display_name": "Python 3",
   "language": "python",
   "name": "python3"
  },
  "language_info": {
   "codemirror_mode": {
    "name": "ipython",
    "version": 3
   },
   "file_extension": ".py",
   "mimetype": "text/x-python",
   "name": "python",
   "nbconvert_exporter": "python",
   "pygments_lexer": "ipython3",
   "version": "3.6.8"
  }
 },
 "nbformat": 4,
 "nbformat_minor": 5
}
