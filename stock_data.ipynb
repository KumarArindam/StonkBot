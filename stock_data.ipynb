{
 "cells": [
  {
   "cell_type": "code",
   "execution_count": 1,
   "id": "da8b8fe3",
   "metadata": {},
   "outputs": [],
   "source": [
    "import pandas as pd\n",
    "import yfinance as yf\n",
    "from datetime import datetime, time, timedelta, date\n",
    "from yahoofinancials import YahooFinancials"
   ]
  },
  {
   "cell_type": "code",
   "execution_count": 6,
   "id": "66e4e23a",
   "metadata": {},
   "outputs": [],
   "source": [
    "# stock_list = ['LAURUSLABS.NS', \"ADANIENT.NS\", \"ADANIPORTS.NS\", \"ADANIPOWER.NS\", \"AMARAJABAT.NS\", \"AMBUJACEM.NS\",\n",
    "#               \"APOLLOHOSP.NS\", \"APOLLOTYRE.NS\", \"ASHOKLEY.NS\", \"ASIANPAINT.NS\",\"AUROPHARMA.NS\", \"AXISBANK.NS\"]\n",
    "\n",
    "# start_date = '2021-07-01'\n",
    "# trade_date = '2021-07-08'"
   ]
  },
  {
   "cell_type": "code",
   "execution_count": 5,
   "id": "fb5507e2",
   "metadata": {},
   "outputs": [],
   "source": [
    "# for x in stock_list:\n",
    "#     while True:\n",
    "#         try:\n",
    "#             data = yf.download(x, start=\"2021-01-01\", end=trade_date, interval='5m', threads = False)\n",
    "#             data = data.drop(columns = ['Low','High', 'Open', 'Adj Close', 'Volume'])\n",
    "#             data.columns=[x]\n",
    "#             data = data.reset_index()\n",
    "#             stock_data=data[x]\n",
    "#             close_data = pd.concat([close_data,stock_data], axis=1)\n",
    "#             print(x)\n",
    "#         except Exception as ex:\n",
    "#             print(ex)\n",
    "#             continue\n",
    "#         break"
   ]
  },
  {
   "cell_type": "code",
   "execution_count": 35,
   "id": "2acf196b",
   "metadata": {},
   "outputs": [
    {
     "data": {
      "text/plain": [
       "'2021-07-09'"
      ]
     },
     "execution_count": 35,
     "metadata": {},
     "output_type": "execute_result"
    }
   ],
   "source": [
    "stock_list = ['LAURUSLABS.NS', \"ADANIENT.NS\", \"ADANIPORTS.NS\"]\n",
    "\n",
    "yesterday = datetime.now() - timedelta(1)\n",
    "start_date = datetime.strftime(yesterday, '%Y-%m-%d')\n",
    "trade_date = datetime.now().date().strftime('%Y-%m-%d')\n",
    "start_date"
   ]
  },
  {
   "cell_type": "code",
   "execution_count": null,
   "id": "7c9b6316",
   "metadata": {},
   "outputs": [],
   "source": []
  },
  {
   "cell_type": "code",
   "execution_count": 160,
   "id": "44ae9ed9",
   "metadata": {},
   "outputs": [
    {
     "data": {
      "text/plain": [
       "{'LAURUSLABS.NS': {'eventsData': {},\n",
       "  'firstTradeDate': {'formatted_date': '2016-12-19', 'date': 1482119100},\n",
       "  'currency': 'INR',\n",
       "  'instrumentType': 'EQUITY',\n",
       "  'timeZone': {'gmtOffset': 19800},\n",
       "  'prices': [{'date': 1624818600,\n",
       "    'high': 693.25,\n",
       "    'low': 662.25,\n",
       "    'open': 691.0,\n",
       "    'close': 677.6500244140625,\n",
       "    'volume': 8875216,\n",
       "    'adjclose': 677.6500244140625,\n",
       "    'formatted_date': '2021-06-27'},\n",
       "   {'date': 1625423400,\n",
       "    'high': 693.0,\n",
       "    'low': 671.0,\n",
       "    'open': 685.0,\n",
       "    'close': 680.2000122070312,\n",
       "    'volume': 11586423,\n",
       "    'adjclose': 680.2000122070312,\n",
       "    'formatted_date': '2021-07-04'}]}}"
      ]
     },
     "execution_count": 160,
     "metadata": {},
     "output_type": "execute_result"
    }
   ],
   "source": [
    "yahoo_financials = YahooFinancials('LAURUSLABS.NS')\n",
    "\n",
    "data = yahoo_financials.get_historical_price_data(start_date='2021-07-01', \n",
    "                                                  end_date='2021-07-09', \n",
    "                                                  time_interval='weekly')\n",
    "data\n",
    "# tsla_df = pd.DataFrame(data['TSL']['prices'])\n",
    "# tsla_df = tsla_df.drop('date', axis=1).set_index('formatted_date')\n",
    "# tsla_df.head()"
   ]
  },
  {
   "cell_type": "code",
   "execution_count": 71,
   "id": "b3c7187d",
   "metadata": {},
   "outputs": [],
   "source": [
    "def get_closing_data(stock_list):\n",
    "    close_data = pd.DataFrame()\n",
    "    for stock in stock_list:\n",
    "#         print(\"{} EOD Data {}\".format(stock, trade_date))\n",
    "\n",
    "        yahoo_financials = YahooFinancials(stock)\n",
    "        data = yahoo_financials.get_historical_price_data(start_date=start_date, \n",
    "                                                          end_date= trade_date,\n",
    "                                                          time_interval='daily')\n",
    "\n",
    "        data_df = pd.DataFrame(data[stock]['prices'])\n",
    "        data_df = data_df.drop('date', axis=1).set_index('formatted_date')\n",
    "        data_df.reset_index(inplace=True)\n",
    "        data_df = data_df.rename(columns={'formatted_date':'date'})\n",
    "        data_df = data_df.drop(columns = ['adjclose', 'volume'])\n",
    "        data_df['stock'] = stock\n",
    "        close_data = pd.concat([close_data,data_df], axis=0)\n",
    "\n",
    "    close_data = close_data.drop_duplicates()\n",
    "    close_data.reset_index(inplace=True)\n",
    "    close_data.drop('index',axis=1, inplace=True)    \n",
    "    return close_data"
   ]
  },
  {
   "cell_type": "code",
   "execution_count": 72,
   "id": "be774b16",
   "metadata": {},
   "outputs": [
    {
     "name": "stdout",
     "output_type": "stream",
     "text": [
      "LAURUSLABS.NS EOD Data 2021-07-10\n",
      "ADANIENT.NS EOD Data 2021-07-10\n",
      "ADANIPORTS.NS EOD Data 2021-07-10\n"
     ]
    }
   ],
   "source": [
    "close_data = get_closing_data(stock_list)"
   ]
  },
  {
   "cell_type": "code",
   "execution_count": 73,
   "id": "0fb09e82",
   "metadata": {},
   "outputs": [],
   "source": [
    "cols_order = ['stock', 'date', 'high', 'low', 'open', 'close']\n",
    "close_data = close_data[cols_order]"
   ]
  },
  {
   "cell_type": "code",
   "execution_count": 134,
   "id": "4fb9d90f",
   "metadata": {},
   "outputs": [],
   "source": [
    "def format_output(df):\n",
    "    \n",
    "    res = \"\"\n",
    "    for index, row in df.iterrows():\n",
    "        res+= \"{} \\tEOD Data\\n\".format(row['stock'])\n",
    "        res+= \"---Date: {}\\n\".format(row['date'])\n",
    "        res+= \"---Open: {:.2f}\\n\".format(np.round(row['open'], 2))\n",
    "        res+= \"---Close: {:.2f}\\n\".format(np.round(row['close'], 2))\n",
    "        res+= \"---Low: {:.2f}\\n\".format(np.round(row['low'], 2))\n",
    "        res+= \"---High: {:.2f}\\n\\n\".format(np.round(row['high'], 2))\n",
    "        \n",
    "    return res"
   ]
  },
  {
   "cell_type": "code",
   "execution_count": 135,
   "id": "d8540629",
   "metadata": {},
   "outputs": [
    {
     "name": "stdout",
     "output_type": "stream",
     "text": [
      "LAURUSLABS.NS \tEOD Data\n",
      "---Date: 2021-07-09\n",
      "---Open: 685.70\n",
      "---Close: 680.20\n",
      "---Low: 676.70\n",
      "---High: 687.00\n",
      "\n",
      "ADANIENT.NS \tEOD Data\n",
      "---Date: 2021-07-09\n",
      "---Open: 1425.90\n",
      "---Close: 1431.35\n",
      "---Low: 1416.45\n",
      "---High: 1456.60\n",
      "\n",
      "ADANIPORTS.NS \tEOD Data\n",
      "---Date: 2021-07-09\n",
      "---Open: 712.50\n",
      "---Close: 728.50\n",
      "---Low: 708.35\n",
      "---High: 737.00\n",
      "\n",
      "\n"
     ]
    }
   ],
   "source": [
    "print(format_output(close_data))"
   ]
  },
  {
   "cell_type": "code",
   "execution_count": 164,
   "id": "c6ea96c1",
   "metadata": {},
   "outputs": [],
   "source": [
    "import schedule\n",
    "import time\n",
    "\n",
    "def job():\n",
    "    print(\"I'm working...\")"
   ]
  },
  {
   "cell_type": "code",
   "execution_count": 165,
   "id": "52d5bff8",
   "metadata": {},
   "outputs": [
    {
     "data": {
      "text/plain": [
       "Every 10 seconds do job() (last run: [never], next run: 2021-07-11 00:03:21)"
      ]
     },
     "execution_count": 165,
     "metadata": {},
     "output_type": "execute_result"
    }
   ],
   "source": [
    "schedule.every(10).seconds.do(job)"
   ]
  },
  {
   "cell_type": "code",
   "execution_count": 166,
   "id": "281c1060",
   "metadata": {},
   "outputs": [
    {
     "data": {
      "text/plain": [
       "1625942016.6577172"
      ]
     },
     "execution_count": 166,
     "metadata": {},
     "output_type": "execute_result"
    }
   ],
   "source": [
    "while True:\n",
    "    schedule.run_pending()\n",
    "    time.sleep(1)"
   ]
  },
  {
   "cell_type": "code",
   "execution_count": null,
   "id": "f3422442",
   "metadata": {},
   "outputs": [],
   "source": []
  }
 ],
 "metadata": {
  "kernelspec": {
   "display_name": "Python 3",
   "language": "python",
   "name": "python3"
  },
  "language_info": {
   "codemirror_mode": {
    "name": "ipython",
    "version": 3
   },
   "file_extension": ".py",
   "mimetype": "text/x-python",
   "name": "python",
   "nbconvert_exporter": "python",
   "pygments_lexer": "ipython3",
   "version": "3.6.8"
  }
 },
 "nbformat": 4,
 "nbformat_minor": 5
}
